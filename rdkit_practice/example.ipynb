{
 "cells": [
  {
   "cell_type": "markdown",
   "metadata": {},
   "source": [
    "## 准备工作"
   ]
  },
  {
   "cell_type": "markdown",
   "metadata": {},
   "source": [
    "1. [安装Anaconda和VSCode](https://zhuanlan.zhihu.com/p/88458083)"
   ]
  },
  {
   "cell_type": "markdown",
   "metadata": {},
   "source": [
    "2. 新建虚拟环境\n",
    "\n",
    "    ```\n",
    "    # 打开终端\n",
    "\n",
    "    # 新建环境\n",
    "    conda create -n myvenv\n",
    "\n",
    "    # 进入环境\n",
    "    conda activate myvenv\n",
    "    ```"
   ]
  },
  {
   "cell_type": "markdown",
   "metadata": {},
   "source": [
    "3. [安装rdkit](https://www.rdkit.org/docs/index.html)\n",
    "\n",
    "    rdkit是用于分子结构和性质的表示和计算的python库"
   ]
  },
  {
   "cell_type": "markdown",
   "metadata": {},
   "source": [
    "## 对分子中存在的官能团进行标注"
   ]
  },
  {
   "cell_type": "code",
   "execution_count": 1,
   "metadata": {},
   "outputs": [],
   "source": [
    "from rdkit import Chem"
   ]
  },
  {
   "cell_type": "markdown",
   "metadata": {},
   "source": [
    "1. 用[SMILES](https://blog.csdn.net/xk6891/article/details/116380262)表示分子"
   ]
  },
  {
   "cell_type": "code",
   "execution_count": 2,
   "metadata": {},
   "outputs": [],
   "source": [
    "smiles = 'CC=CCC'"
   ]
  },
  {
   "cell_type": "markdown",
   "metadata": {},
   "source": [
    "2. 将SMILES转换为mol实例\n",
    "\n",
    "```mol```存储着与分子结构和性质有关的信息"
   ]
  },
  {
   "cell_type": "code",
   "execution_count": 3,
   "metadata": {},
   "outputs": [
    {
     "data": {
      "image/png": "[encoded data removed]",
      "text/plain": [
       "<rdkit.Chem.rdchem.Mol at 0x19c610e7920>"
      ]
     },
     "execution_count": 3,
     "metadata": {},
     "output_type": "execute_result"
    }
   ],
   "source": [
    "mol = Chem.MolFromSmiles(smiles)\n",
    "mol"
   ]
  },
  {
   "cell_type": "markdown",
   "metadata": {},
   "source": [
    "3. 用[SMARTS](https://zhuanlan.zhihu.com/p/477094703)定义一些官能团\n",
    "\n",
    "(SMARTS和SMILES都可以表示分子的结构，但是SMARTS语法更复杂，能够表示比SMILES更复杂的信息)"
   ]
  },
  {
   "cell_type": "code",
   "execution_count": 4,
   "metadata": {},
   "outputs": [],
   "source": [
    "alkane = '[CX4;H3,H2]'\n",
    "alkene = '[CX3]=[CX3]'\n",
    "alkyne = '[CX2]#[CX2]'\n",
    "arene = '[cX3]1[cX3][cX3][cX3][cX3][cX3]1'\n",
    "haloalkane = '[#6][F,Cl,Br,I]'\n",
    "alcohol = '[#6][OX2H]'\n",
    "aldehyde = '[CX3H1](=O)[#6,H]'\n",
    "ketone = '[#6][CX3](=O)[#6]'\n",
    "carboxylic_acid = '[CX3](=O)[OX2H]'\n",
    "acid_anhydride = '[CX3](=[OX1])[OX2][CX3](=[OX1])'\n",
    "acyl_halide = '[CX3](=[OX1])[F,Cl,Br,I]'\n",
    "ester = '[#6][CX3](=O)[OX2H0][#6]'\n",
    "ether = '[OD2]([#6])[#6]'\n",
    "amine = '[NX3;H2,H1,H0;!$(NC=O)]'\n",
    "amide = '[NX3][CX3](=[OX1])[#6]'\n",
    "nitrile = '[NX1]#[CX2]'\n",
    "imide = '[CX3](=[OX1])[NX3][CX3](=[OX1])'\n",
    "imine = '[$([CX3]([#6])[#6]),$([CX3H][#6])]=[$([NX2][#6]),$([NX2H])]'\n",
    "azo_compound = '[#6][NX2]=[NX2][#6]'\n",
    "thiol = '[#16X2H]'\n",
    "thial = '[CX3H1](=O)[#6,H]'\n",
    "sulfone = '[#16X4](=[OX1])(=[OX1])([#6])[#6]'\n",
    "sulfonic_acid = '[#16X4](=[OX1])(=[OX1])([#6])[OX2H]'\n",
    "enol = '[OX2H][#6X3]=[#6]'\n",
    "phenol = '[OX2H][cX3]:[c]'\n",
    "hydrazine = '[NX3][NX3]'\n",
    "enamine = '[NX3][CX3]=[CX3]'\n",
    "isocyanate = '[NX2]=[C]=[O]'\n",
    "isothiocyanate = '[NX2]=[C]=[S]'\n",
    "phosphine = '[PX3]'\n",
    "sulfonamide = '[#16X4]([NX3])(=[OX1])(=[OX1])[#6]'\n",
    "sulfonate = '[#16X4](=[OX1])(=[OX1])([#6])[OX2H0]'\n",
    "sulfoxide = '[#16X3]=[OX1]'\n",
    "thioamide = '[NX3][CX3]=[SX1]'\n",
    "hydrazone = '[NX3][NX2]=[#6]'\n",
    "carbamate = '[NX3][CX3](=[OX1])[OX2H0]'\n",
    "sulfide = '[#16X2H0]'"
   ]
  },
  {
   "cell_type": "markdown",
   "metadata": {},
   "source": [
    "4. 把这些官能团放在一个列表里"
   ]
  },
  {
   "cell_type": "code",
   "execution_count": 5,
   "metadata": {},
   "outputs": [],
   "source": [
    "fg_list = [\n",
    "        alkane,\n",
    "        alkene,\n",
    "        alkyne,\n",
    "        arene, \n",
    "        haloalkane, \n",
    "        alcohol,\n",
    "        aldehyde,\n",
    "        ketone, \n",
    "        carboxylic_acid, \n",
    "        acid_anhydride, \n",
    "        acyl_halide, \n",
    "        ester, \n",
    "        ether, \n",
    "        amine, \n",
    "        amide, \n",
    "        nitrile, \n",
    "        imide, \n",
    "        imine, \n",
    "        azo_compound,\n",
    "        thiol, \n",
    "        thial, \n",
    "        sulfone, \n",
    "        sulfonic_acid, \n",
    "        enol, \n",
    "        phenol,\n",
    "        hydrazine, \n",
    "        enamine, \n",
    "        isocyanate, \n",
    "        isothiocyanate,\n",
    "        phosphine, \n",
    "        sulfonamide, \n",
    "        sulfonate, \n",
    "        sulfoxide, \n",
    "        thioamide, \n",
    "        hydrazone, \n",
    "        carbamate, \n",
    "        sulfide]"
   ]
  },
  {
   "cell_type": "markdown",
   "metadata": {},
   "source": [
    "5. 把这些官能团的SMARTS也转为mol，同样用列表存储"
   ]
  },
  {
   "cell_type": "code",
   "execution_count": 6,
   "metadata": {},
   "outputs": [],
   "source": [
    "fg_mols = []\n",
    "for fg in fg_list:\n",
    "    fg_mols.append(Chem.MolFromSmarts(fg))"
   ]
  },
  {
   "cell_type": "markdown",
   "metadata": {},
   "source": [
    "6. mol实例本身的```HasSubstructMatch```方法可以接收一个官能团的mol，判断官能团是否存在于分子中："
   ]
  },
  {
   "cell_type": "code",
   "execution_count": 7,
   "metadata": {},
   "outputs": [
    {
     "data": {
      "text/plain": [
       "True"
      ]
     },
     "execution_count": 7,
     "metadata": {},
     "output_type": "execute_result"
    }
   ],
   "source": [
    "'''\n",
    "返回True表示分子中存在C=C'''\n",
    "mol.HasSubstructMatch(fg_mols[1]) "
   ]
  },
  {
   "cell_type": "markdown",
   "metadata": {},
   "source": [
    "用这样的方法，可以判断列表中的哪些官能团存在于分子中，从而得到官能团的标签用于识别任务\n",
    "\n",
    "判断下面的分子包含列表里的哪些官能团"
   ]
  },
  {
   "cell_type": "code",
   "execution_count": 14,
   "metadata": {},
   "outputs": [],
   "source": [
    "smiles = 'NCCC(S)(Cc1ccccc1)CC(=O)O'"
   ]
  },
  {
   "cell_type": "code",
   "execution_count": 15,
   "metadata": {},
   "outputs": [
    {
     "data": {
      "image/png": "[encoded data removed]",
      "text/plain": [
       "<rdkit.Chem.rdchem.Mol at 0x19c61325af0>"
      ]
     },
     "execution_count": 15,
     "metadata": {},
     "output_type": "execute_result"
    }
   ],
   "source": [
    "mol = Chem.MolFromSmiles(smiles)\n",
    "mol"
   ]
  },
  {
   "cell_type": "code",
   "execution_count": 16,
   "metadata": {},
   "outputs": [
    {
     "data": {
      "text/plain": [
       "['[CX4;H3,H2]',\n",
       " '[cX3]1[cX3][cX3][cX3][cX3][cX3]1',\n",
       " '[#6][OX2H]',\n",
       " '[CX3](=O)[OX2H]',\n",
       " '[NX3;H2,H1,H0;!$(NC=O)]',\n",
       " '[#16X2H]']"
      ]
     },
     "execution_count": 16,
     "metadata": {},
     "output_type": "execute_result"
    }
   ],
   "source": [
    "# 与所有官能团的匹配结果\n",
    "label = [Chem.MolFromSmiles(smiles).HasSubstructMatch(i) for i in fg_mols]\n",
    "\n",
    "# 存在的官能团\n",
    "[fg_list[j] for j in range(len(label)) if label[j]]"
   ]
  },
  {
   "cell_type": "code",
   "execution_count": null,
   "metadata": {},
   "outputs": [],
   "source": []
  }
 ],
 "metadata": {
  "language_info": {
   "name": "python"
  }
 },
 "nbformat": 4,
 "nbformat_minor": 2
}
