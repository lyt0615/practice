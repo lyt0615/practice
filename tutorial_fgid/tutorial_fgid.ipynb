{
 "cells": [
  {
   "attachments": {},
   "cell_type": "markdown",
   "metadata": {},
   "source": [
    "# 课题：**深度学习应用于拉曼光谱官能团识别**  \n",
    "*Deep learning for fuctional group identification using Raman spectra.*\n",
    "\n",
    "本课题利用深度学习模型，根据有机分子的拉曼光谱，识别分子中存在的官能团。\n",
    "## 目录"
   ]
  },
  {
   "attachments": {},
   "cell_type": "markdown",
   "metadata": {},
   "source": [
    "# 1 配置虚拟环境 \n",
    ">**如果你已经配置过其他拥有torch的环境，激活该环境后跳到(5)即可。**\n",
    "\n",
    "(1) 打开终端 \n",
    " \n",
    "(2) 新建环境  \n",
    "```\n",
    "conda create -n fgid python=3.10\n",
    "```\n",
    "(3) 进入环境\n",
    "```\n",
    "conda activate fgid\n",
    "```\n",
    "(4) 安装所需包\n",
    "```\n",
    "pip install -r requirements.txt\n",
    "```\n",
    "(5) 安装rdkit  \n",
    "rdkit是用来对化学分子进行结构展示、性质计算等操作的开源工具包。我们将使用rdkit展示分子结构式。 \n",
    "```\n",
    "pip install rdkit-pypi==2022.9.4\n",
    "```"
   ]
  },
  {
   "attachments": {},
   "cell_type": "markdown",
   "metadata": {},
   "source": [
    "# 2 数据准备\n",
    "## 2.1 定义随机种子\n",
    "深度学习涉及较多的随机过程，例如抽样、参数初始化等，导致每次运行结果都不同。随机种子可以让程序拥有“记忆”，通过设置随机种子为一个固定值，可以使程序每次运行后输出同样的结果，便于查看和分析。"
   ]
  },
  {
   "cell_type": "code",
   "execution_count": 1,
   "metadata": {},
   "outputs": [
    {
     "name": "stderr",
     "output_type": "stream",
     "text": [
      "d:\\anaconda3\\envs\\fgid\\lib\\site-packages\\tqdm\\auto.py:22: TqdmWarning: IProgress not found. Please update jupyter and ipywidgets. See https://ipywidgets.readthedocs.io/en/stable/user_install.html\n",
      "  from .autonotebook import tqdm as notebook_tqdm\n",
      "d:\\anaconda3\\envs\\fgid\\lib\\site-packages\\torch\\random.py:42: UserWarning: Failed to initialize NumPy: module compiled against API version 0x10 but this version of numpy is 0xf (Triggered internally at ..\\torch\\csrc\\utils\\tensor_numpy.cpp:77.)\n",
      "  return default_generator.manual_seed(seed)\n"
     ]
    }
   ],
   "source": [
    "import numpy as np\n",
    "import os, torch, random\n",
    "SEED = 42 # 也可以设置别的数，设置后保持不变即可。\n",
    "\n",
    "random.seed(SEED)\n",
    "os.environ['PYTHONHASHSEED'] = str(SEED)\n",
    "np.random.seed(SEED)\n",
    "torch.manual_seed(SEED)\n",
    "if torch.cuda.is_available():\n",
    "    torch.cuda.manual_seed_all(SEED)"
   ]
  },
  {
   "attachments": {},
   "cell_type": "markdown",
   "metadata": {},
   "source": [
    "## 2.2 载入数据集"
   ]
  },
  {
   "cell_type": "code",
   "execution_count": 2,
   "metadata": {},
   "outputs": [],
   "source": [
    "dataset = np.load('data/data.npz')\n",
    "data = dataset['data'] # 光谱数据\n",
    "label = dataset['label'] # 标签，1表示官能团存在，0表示不存在。\n",
    "smiles = dataset['smiles']"
   ]
  },
  {
   "attachments": {},
   "cell_type": "markdown",
   "metadata": {},
   "source": [
    "我们将对10种官能团进行识别，按照先后顺序对应标签 ```y``` 的10个维度，名称如下（注意，为了减少计算量，此处只选择了10个官能团，分子中可能有其他官能团）。"
   ]
  },
  {
   "cell_type": "code",
   "execution_count": 3,
   "metadata": {},
   "outputs": [],
   "source": [
    "label_names = [\n",
    "        'Alkane',\n",
    "        'Alkene',\n",
    "        'Alkyne',\n",
    "        'Arene',\n",
    "        'Haloalkane',\n",
    "        'Alcohol',\n",
    "        'Aldehyde',\n",
    "        'Ketone',\n",
    "        'Ester',\n",
    "        'Ether',\n",
    "]"
   ]
  },
  {
   "attachments": {},
   "cell_type": "markdown",
   "metadata": {},
   "source": [
    "查看数据集中的分子结构式和存在的官能团："
   ]
  },
  {
   "cell_type": "code",
   "execution_count": 2,
   "metadata": {},
   "outputs": [
    {
     "data": {
      "image/png": "[encoded data removed]",
      "text/plain": [
       "<PIL.PngImagePlugin.PngImageFile image mode=RGB size=300x300>"
      ]
     },
     "execution_count": 2,
     "metadata": {},
     "output_type": "execute_result"
    }
   ],
   "source": [
    "from rdkit import Chem\n",
    "from rdkit.Chem import Draw\n",
    "smiles = 'NCCC(=O)O'\n",
    "mol = Chem.MolFromSmiles(smiles)\n",
    "img =Draw.MolToImage(mol)\n",
    "img"
   ]
  },
  {
   "attachments": {},
   "cell_type": "markdown",
   "metadata": {},
   "source": [
    "## 2.3 数据集的划分\n",
    "我们采用分层抽样，将数据集划分成数量比为训练:验证:测试=3:1:1的三个子集，保证每种官能团在各个子集里的数量占比与在全集中相同（实际情况下不可能完全均分，所以取整作近似）。"
   ]
  },
  {
   "cell_type": "code",
   "execution_count": 5,
   "metadata": {},
   "outputs": [
    {
     "data": {
      "text/plain": [
       "((6507, 500), (6507, 10), (2169, 500), (2169, 10), (2170, 500), (2170, 10))"
      ]
     },
     "execution_count": 5,
     "metadata": {},
     "output_type": "execute_result"
    }
   ],
   "source": [
    "from iterstrat.ml_stratifiers import MultilabelStratifiedShuffleSplit\n",
    "\n",
    "shuffle_splits = 1\n",
    "# 定义分层抽样器1，使测试集占全集20%。test_size=1/(1+1+3)=0.2\n",
    "str_shuffle_1 = MultilabelStratifiedShuffleSplit(n_splits=shuffle_splits, test_size=0.2, random_state=SEED)\n",
    "# 定义分层抽样器2，使验证集占剩训练+验证数据的25%。test_size=1/(1+3)=0.25\n",
    "str_shuffle_2 = MultilabelStratifiedShuffleSplit(n_splits=shuffle_splits, test_size=0.25, random_state=SEED) \n",
    "\n",
    "for train_val_index, test_index in str_shuffle_1.split(data, label):\n",
    "    X_train_val = data[train_val_index]\n",
    "    X_test = data[test_index]\n",
    "    y_train_val = label[train_val_index]\n",
    "    y_test = label[test_index]\n",
    "    smiles_train_val = smiles[train_val_index]\n",
    "    smiles_test = smiles[test_index]\n",
    "for train_index, val_index in str_shuffle_2.split(X_train_val, y_train_val):\n",
    "    X_train = X_train_val[train_index]\n",
    "    X_val = X_train_val[val_index]\n",
    "    y_train = y_train_val[train_index]\n",
    "    y_val = y_train_val[val_index]\n",
    "    smiles_train = smiles_train_val[train_index]\n",
    "    smiles_val = smiles_train_val[val_index]\n",
    "X_train.shape, y_train.shape, X_val.shape, y_val.shape, X_test.shape, y_test.shape"
   ]
  },
  {
   "attachments": {},
   "cell_type": "markdown",
   "metadata": {},
   "source": [
    "# 2.4 构建Dataloader"
   ]
  },
  {
   "cell_type": "code",
   "execution_count": 6,
   "metadata": {},
   "outputs": [],
   "source": [
    "from torch.utils.data import DataLoader, TensorDataset\n",
    "def get_dataloader(X, y, batch_size=64):\n",
    "    '''\n",
    "    将光谱X和标签y配对并分为len(X)/batch_size个批次，每批次batch_size个光谱-标签对。'''\n",
    "    X = torch.tensor(X, dtype=torch.float32)\n",
    "    y = torch.tensor(y, dtype=torch.float32)\n",
    "    dataset = TensorDataset(X, y)\n",
    "    # weighted_sampler = sampler.WeightedRandomSampler(sampling_weight, len(sampling_weight))\n",
    "    dataloader = DataLoader(dataset, batch_size=batch_size, shuffle=False)\n",
    "    return dataloader\n",
    "\n",
    "train_loader = get_dataloader(X_train, y_train, batch_size=128)\n",
    "val_loader = get_dataloader(X_val, y_val, batch_size=64)\n"
   ]
  },
  {
   "attachments": {},
   "cell_type": "markdown",
   "metadata": {},
   "source": [
    "# 3 训练模型\n",
    "## 3.1 训练组件设置\n",
    "(1) 使用gpu加速  \n",
    ">如果下面代码输出cpu但是你的电脑有gpu，可以参考教程：[选择正确版本的CUDA和PyTorch安装](https://zhuanlan.zhihu.com/p/672526561)"
   ]
  },
  {
   "cell_type": "code",
   "execution_count": 7,
   "metadata": {},
   "outputs": [
    {
     "data": {
      "text/plain": [
       "device(type='cpu')"
      ]
     },
     "execution_count": 7,
     "metadata": {},
     "output_type": "execute_result"
    }
   ],
   "source": [
    "device = torch.device('cuda:0' if torch.cuda.is_available() else 'cpu')\n",
    "device # 查看在使用的处理器"
   ]
  },
  {
   "attachments": {},
   "cell_type": "markdown",
   "metadata": {},
   "source": []
  },
  {
   "attachments": {},
   "cell_type": "markdown",
   "metadata": {},
   "source": [
    "(2) 早停机制  \n",
    "选择一个监测指标，在每次迭代后检查该指标：如果该指标提升，保存模型参数；在该指标连续几次迭代（次数可选）不升高后，自动停止训练以防止过拟合："
   ]
  },
  {
   "cell_type": "code",
   "execution_count": 8,
   "metadata": {},
   "outputs": [],
   "source": [
    "class EarlyStopping:\n",
    "    def __init__(self, save_path, patience=5, delta=0):\n",
    "        \"\"\"\n",
    "        Args:\n",
    "            save_path: 模型参数保存路径.\n",
    "            patience (int): 监测指标在连续patience次迭代不升高后，自动停止训练。\n",
    "                            Default: 5\n",
    "            delta (float): 监测指标增量小于该值时，不保存模型。\n",
    "                            Default: 0\n",
    "        \"\"\"\n",
    "        self.save_path = save_path\n",
    "        self.patience = patience\n",
    "        self.counter = 0\n",
    "        self.best_score = None\n",
    "        self.early_stop = False\n",
    "        self.val_loss_min = np.Inf\n",
    "        self.delta = delta\n",
    "\n",
    "    def __call__(self, val_loss, model):\n",
    "\n",
    "        score = -val_loss\n",
    "\n",
    "        if self.best_score is None:\n",
    "            self.best_score = score\n",
    "            self.save_checkpoint(val_loss, model)\n",
    "        elif score < self.best_score + self.delta:\n",
    "            self.counter += 1\n",
    "            print(f'EarlyStopping counter: {self.counter} / {self.patience}')\n",
    "            if self.counter >= self.patience:\n",
    "                self.early_stop = True\n",
    "        else:\n",
    "            self.best_score = score\n",
    "            self.save_checkpoint(val_loss, model)\n",
    "            self.counter = 0\n",
    "\n",
    "    def save_checkpoint(self, val_loss, model):\n",
    "        '''Saves model when validation loss decrease.'''\n",
    "        path = os.path.join(self.save_path, 'best_network.pth')\n",
    "        torch.save(model.state_dict(), path)\n",
    "        self.val_loss_min = val_loss"
   ]
  },
  {
   "attachments": {},
   "cell_type": "markdown",
   "metadata": {},
   "source": [
    "## 3.2 设置训练参数和模型初始化"
   ]
  },
  {
   "cell_type": "code",
   "execution_count": 9,
   "metadata": {},
   "outputs": [],
   "source": [
    "from model import CNN\n",
    "from torch.nn import BCEWithLogitsLoss\n",
    "from torch.optim import Adam\n",
    "from tqdm import tqdm\n",
    "from time import time\n",
    "\n",
    "num_epochs = 100 # 最大迭代次数\n",
    "model_save_path = 'model_path' # 保存模型参数的路径\n",
    "learning_rate = 2.5e-4 # 学习率\n",
    "val_threshold = 0.5 # 该阈值用来与模型计算的官能团存在概率作比较，若概率值大于该阈值，认为官能团存在，输出标签的相应维度上元素输出为1，否则为0。\n",
    "model = CNN(class_num=y_train.shape[1]).to(device)\n",
    "'''\n",
    "pos_weight=? 为每类官能团的loss赋予权重，是否可以提高模型性能？'''\n",
    "criterion = BCEWithLogitsLoss()\n",
    "optimizer = Adam(params=model.parameters(), lr=learning_rate)\n"
   ]
  },
  {
   "attachments": {},
   "cell_type": "markdown",
   "metadata": {},
   "source": [
    "## 3.3 训练和验证"
   ]
  },
  {
   "cell_type": "code",
   "execution_count": 10,
   "metadata": {},
   "outputs": [
    {
     "name": "stderr",
     "output_type": "stream",
     "text": [
      " 43%|█████▌       | 22/51 [00:07<00:09,  3.11it/s]"
     ]
    },
    {
     "ename": "",
     "evalue": "",
     "output_type": "error",
     "traceback": [
      "\u001b[1;31mCanceled future for execute_request message before replies were done"
     ]
    },
    {
     "ename": "",
     "evalue": "",
     "output_type": "error",
     "traceback": [
      "\u001b[1;31mThe Kernel crashed while executing code in the the current cell or a previous cell. Please review the code in the cell(s) to identify a possible cause of the failure. Click <a href='https://aka.ms/vscodeJupyterKernelCrash'>here</a> for more info. View Jupyter <a href='command:jupyter.viewOutput'>log</a> for further details."
     ]
    }
   ],
   "source": [
    "val_loss_list = []\n",
    "train_loss_list = []\n",
    "val_loss_min = 1\n",
    "\n",
    "earlystopping = EarlyStopping(save_path=model_save_path)\n",
    "val_acc_max = 0.5\n",
    "\n",
    "time_start = time()\n",
    "for epoch in range(1, num_epochs+1):\n",
    "\n",
    "# 训练\n",
    "    train_loss = 0\n",
    "    model.train()\n",
    "    train_bar = tqdm(enumerate(train_loader), total=len(train_loader), ncols=50)\n",
    "    for _, (batch_x, batch_y) in train_bar:\n",
    "        optimizer.zero_grad()\n",
    "        outputs = model(batch_x.to(device))\n",
    "        loss = criterion(outputs, batch_y.to(device))\n",
    "        loss.backward()\n",
    "        optimizer.step()\n",
    "        train_loss += loss.item()\n",
    "    train_loss = train_loss / len(train_loader)\n",
    "    print(f'Epoch [{epoch}/{num_epochs}], Training Loss: {train_loss}.')\n",
    "\n",
    "# 验证\n",
    "    model.eval()\n",
    "    val_loss = 0\n",
    "    val_acc = 0\n",
    "    num_correct = 0\n",
    "    with torch.no_grad():\n",
    "        val_bar = tqdm(enumerate(val_loader), total=len(val_loader), ncols=50)  # 创建进度条\n",
    "        for _, (batch_x, batch_y) in val_bar:\n",
    "            val_outputs = model(batch_x.to(device))\n",
    "            loss = criterion(val_outputs, batch_y.to(device))\n",
    "            optimizer.zero_grad()\n",
    "            predicted_labels = (val_outputs >= val_threshold).float().cpu()\n",
    "            num_correct += np.count_nonzero(predicted_labels == batch_y)\n",
    "            val_loss += loss.item()\n",
    "\n",
    "    val_acc = num_correct/(y_val.shape[0]*y_val.shape[1]) \n",
    "    val_loss = val_loss / len(val_loader)\n",
    "    print(f'Epoch [{epoch }/{num_epochs}], Validation Accuracy: {val_acc}.')\n",
    "\n",
    "    if earlystopping:\n",
    "        earlystopping(val_loss, model)\n",
    "        if earlystopping.early_stop:\n",
    "            print(\"Early stopped.\")\n",
    "            time_end=time()\n",
    "            break\n",
    "print(f'Total training time: {(time_end-time_start)//60} mins.')"
   ]
  },
  {
   "attachments": {},
   "cell_type": "markdown",
   "metadata": {},
   "source": [
    "# 4 测试\n",
    "## 4.1 载入模型参数和测试集"
   ]
  },
  {
   "cell_type": "code",
   "execution_count": null,
   "metadata": {},
   "outputs": [],
   "source": [
    "model = CNN(class_num=y_test.shape[1])\n",
    "model.load_state_dict(torch.load('model_path\\\\best_network.pth', map_location=device),\n",
    "                                                          strict=False)\n",
    "test_loader = get_dataloader(X_test, y_test, batch_size=128)"
   ]
  },
  {
   "cell_type": "code",
   "execution_count": null,
   "metadata": {},
   "outputs": [],
   "source": [
    "test_bar = tqdm(enumerate(test_loader), total=len(test_loader), ncols=50)  # 创建进度条\n",
    "num_correct\n",
    "y_predicted = []\n",
    "for _, (batch_x, batch_y) in test_bar:\n",
    "    test_outputs = model(batch_x.to(device))\n",
    "    loss = criterion(test_outputs, batch_y.to(device))\n",
    "    optimizer.zero_grad()\n",
    "    predicted_labels = (test_outputs >= val_threshold).float().cpu().numpy()\n",
    "    num_correct += np.count_nonzero(predicted_labels == batch_y)\n",
    "    y_predicted.append(predicted_labels)\n",
    "y_predicted = np.vstack(y_predicted)"
   ]
  },
  {
   "attachments": {},
   "cell_type": "markdown",
   "metadata": {},
   "source": [
    "## 4.2 模型性能可视化  \n",
    "**性能指标：**\n",
    "\n",
    "精确率、召回率、F1分数      \n",
    "        精确率 $Precision = \\frac{TP(真阳性)}{TP(真阳性)+FP(假阳性)}$   \n",
    "        召回率 $Recall = \\frac{TP}{TP+FN(假阴性)}$      \n",
    "        F1分数 $F1-Score = 2\\times\\frac{Precision \\times Recall}{Precision + Recall}$   \n",
    "\n",
    "(1) 各类官能团识别结果汇总 \n",
    "     \n",
    "下面的函数中包含以下内容：      \n",
    "第1列：官能团索引号     \n",
    "第2~4列：按官能团统计的指标     "
   ]
  },
  {
   "cell_type": "code",
   "execution_count": null,
   "metadata": {},
   "outputs": [],
   "source": [
    "from sklearn import metrics\n",
    "print(metrics.classification_report(y_test, y_predicted, digits=4, zero_division=0))\n",
    "print('完全匹配率：{:.2f}%'.format(metrics.accuracy_score(y_test, y_predicted)*100))"
   ]
  },
  {
   "attachments": {},
   "cell_type": "markdown",
   "metadata": {},
   "source": [
    "上述指标中：    \n",
    "\n",
    "```support```是各类官能团在测试集里的数量。        \n",
    "\n",
    "```micro avg```微观平均，是以输出标签的单个元素为单位统计$TP、FP$和$FN$后计算的上述性能指标。    \n",
    "\n",
    "```macro avg```宏观平均，表示各官能团性能指标的算术平均值。 \n",
    "\n",
    "```weighted avg```加权平均，是按照各个官能团的```support```加权的平均值。   \n",
    "\n",
    "```samples avg``` 样本平均，是以输出标签为单位统计$TP、 FP$和$FN$后计算所有样本的各项指标的平均值。\n",
    "\n",
    "```完全匹配率```表示所有10个元素全部预测正确的标签占所有测试样本的比例。\n",
    "\n",
    "**直观理解：**\n",
    "> **模型的真实标签和预测标签分别构成两个矩阵，它们形状相同，每行代表一个分子中官能团的存在情况，每列代表一种官能团在整个数据集中的存在情况；比较两个矩阵，可以分析模型识别性能的好坏。```micro avg```是对元素进行逐一比较汇总后计算指标，```macro avg```是比较对应列的各元素、计算每一列指标后求算术平均，```weighted avg```是按照每一列上“1”的个数求列指标的加权平均，```samples avg```是比较对应行的各元素、计算每一行指标后求算术平均。**"
   ]
  },
  {
   "attachments": {},
   "cell_type": "markdown",
   "metadata": {},
   "source": [
    "(2) 下面的函数```plot_result```计算了各类官能团的精确率、召回率和F1分数，并按照官能团在测试集中的数量从少到多展示。"
   ]
  },
  {
   "cell_type": "code",
   "execution_count": null,
   "metadata": {},
   "outputs": [],
   "source": [
    "import matplotlib.pyplot as plt\n",
    "def plot_result(y_true, y_pred, label_list):\n",
    "    precision, recall, f1, support = metrics.precision_recall_fscore_support(y_true, y_pred)\n",
    "    support = support / 2\n",
    "    # Sort the support array and get the sorted indices\n",
    "    sorted_indices = support.argsort()\n",
    "\n",
    "    # Rearrange the arrays based on sorted indices\n",
    "    sorted_support = support[sorted_indices][::-1]\n",
    "    sorted_precision = precision[sorted_indices][::-1]\n",
    "    sorted_recall = recall[sorted_indices][::-1]\n",
    "    sorted_f1 = f1[sorted_indices][::-1]\n",
    "    sorted_labels = [label_list[i] for i in sorted_indices][::-1]\n",
    "\n",
    "    # Create a figure and axis\n",
    "    _, ax1 = plt.subplots(figsize=(9,4))\n",
    "\n",
    "    # Plot 'a' and 'b' as line charts on the primary Y-axis (ax1)\n",
    "    ax1.plot(sorted_labels, sorted_precision, label='Precision', color='blue', marker='o')\n",
    "    ax1.plot(sorted_labels, sorted_recall, label='Recall', color='green', marker='s')\n",
    "    ax1.plot(sorted_labels, sorted_f1, label='F1-score', color='red', marker='x')\n",
    "\n",
    "    # Set labels for the primary Y-axis\n",
    "    ax1.set_xlabel('Labels')\n",
    "    ax1.set_ylabel('Values', color='black')\n",
    "\n",
    "    # Create a secondary Y-axis for the histogram 'c'\n",
    "    ax2 = ax1.twinx()\n",
    "    ax2.bar(sorted_labels, sorted_support, color='red', alpha=0.6, width=0.4)\n",
    "\n",
    "    # Set labels for the secondary Y-axis\n",
    "    ax2.set_ylabel('Label Frequency', color='black')\n",
    "    ax1.set_xticklabels(sorted_labels, rotation=90, ha='right')\n",
    "    ax1.grid()\n",
    "\n",
    "    # Add a legend\n",
    "    ax1.legend(loc = 1, bbox_to_anchor=(0.5, 0.70))\n",
    "    ax2.legend(['Frequency'], loc = 1, bbox_to_anchor=(0.5, 0.40))\n",
    "\n",
    "    # Show the plot\n",
    "    plt.title('Performance to class distribution')\n",
    "    plt.tight_layout()\n",
    "    plt.show()"
   ]
  },
  {
   "cell_type": "code",
   "execution_count": null,
   "metadata": {},
   "outputs": [],
   "source": [
    "plot_result(y_test, y_predicted, label_list=label_names)"
   ]
  },
  {
   "attachments": {},
   "cell_type": "markdown",
   "metadata": {},
   "source": [
    "## 4.3 结果讨论\n",
    "通过上面的结果可以发现：\n",
    "    \n",
    "* 数据集里不同官能团的数量不同。\n",
    "\n",
    "* 数量多的官能团容易被识别，数量少的则相反，表现为召回率较低 。 \n",
    "    >**如果某种官能团存在于分子中（即实际标签为1），但是没有被识别出来（即模型预测为0），那么会导致假阴性数量$FN$偏高，导致召回率偏低）。**     \n",
    "\n",
    "* 有的官能团即使数量较多，也难以被识别，例如醚键（Ester）。考虑到醚键的召回率低，酯基（Ester）的精确率低，而二者有存在相同的化学键```C-O```，对应相同的振动模式，可能存在位置、强度和形貌相近的谱峰，因此推测模型把大量的醚键误认为是酯基，导致醚键假阴性数量多，召回率低，而酯基假阳性数量多，精确率低。"
   ]
  }
 ],
 "metadata": {
  "kernelspec": {
   "display_name": "alexnet",
   "language": "python",
   "name": "python3"
  },
  "language_info": {
   "codemirror_mode": {
    "name": "ipython",
    "version": 3
   },
   "file_extension": ".py",
   "mimetype": "text/x-python",
   "name": "python",
   "nbconvert_exporter": "python",
   "pygments_lexer": "ipython3",
   "version": "3.10.9"
  },
  "orig_nbformat": 4
 },
 "nbformat": 4,
 "nbformat_minor": 2
}
